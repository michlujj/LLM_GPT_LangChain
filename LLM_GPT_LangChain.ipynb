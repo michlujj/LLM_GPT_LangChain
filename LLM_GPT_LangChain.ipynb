{
 "cells": [
  {
   "cell_type": "code",
   "execution_count": 1,
   "id": "80ff5728-a1b5-4b90-a560-479fa2ea9eed",
   "metadata": {},
   "outputs": [],
   "source": [
    "import os\n",
    "import openai"
   ]
  },
  {
   "cell_type": "code",
   "execution_count": 2,
   "id": "92e9941d-b053-427f-a92f-943153000aea",
   "metadata": {},
   "outputs": [],
   "source": [
    "from langchain_openai import OpenAI\n",
    "from langchain.schema import AIMessage, HumanMessage, SystemMessage"
   ]
  },
  {
   "cell_type": "code",
   "execution_count": 42,
   "id": "4febf76e-e932-4462-96b8-9031b30ba7ae",
   "metadata": {},
   "outputs": [],
   "source": [
    "import langchain as lc\n",
    "from langchain.chat_models import ChatOpenAI"
   ]
  },
  {
   "cell_type": "code",
   "execution_count": 4,
   "id": "8b3fc0bc-c1ac-4748-b3b4-57fe69b91826",
   "metadata": {},
   "outputs": [],
   "source": [
    "import pandas as pd\n",
    "import plotly.express as px\n",
    "from IPython.display import display, Markdown"
   ]
  },
  {
   "cell_type": "code",
   "execution_count": 5,
   "id": "4dbff657-8077-4243-adef-4e2178654f90",
   "metadata": {},
   "outputs": [],
   "source": [
    "# to read in the API_key\n",
    "f = open(\"C:\\\\Users\\\\miche\\\\Desktop\\\\machine_learning\\\\Large language models\\\\langchain-course-main\\\\langchain-course-main\\\\June 2024 Update\\\\API_key.txt\")"
   ]
  },
  {
   "cell_type": "code",
   "execution_count": 6,
   "id": "7f6c4263-0a7d-446e-88ea-6cce1f1ca2cd",
   "metadata": {},
   "outputs": [],
   "source": [
    "# to read in API_key into the system\n",
    "os.environ['OPENAI_API_KEY'] = f.read()"
   ]
  },
  {
   "cell_type": "code",
   "execution_count": 7,
   "id": "293c1358-d71f-45cb-b69c-cea7de9ecfae",
   "metadata": {},
   "outputs": [],
   "source": [
    "# to import electric cars dataset\n",
    "df = pd.read_csv('C:/Users/miche/Desktop/machine_learning/Electric_Vehicle_Population_Data.csv')"
   ]
  },
  {
   "cell_type": "code",
   "execution_count": 8,
   "id": "fc9fc537-6d58-4e21-8a13-5f10bfda550a",
   "metadata": {},
   "outputs": [
    {
     "data": {
      "text/html": [
       "<div>\n",
       "<style scoped>\n",
       "    .dataframe tbody tr th:only-of-type {\n",
       "        vertical-align: middle;\n",
       "    }\n",
       "\n",
       "    .dataframe tbody tr th {\n",
       "        vertical-align: top;\n",
       "    }\n",
       "\n",
       "    .dataframe thead th {\n",
       "        text-align: right;\n",
       "    }\n",
       "</style>\n",
       "<table border=\"1\" class=\"dataframe\">\n",
       "  <thead>\n",
       "    <tr style=\"text-align: right;\">\n",
       "      <th></th>\n",
       "      <th>VIN (1-10)</th>\n",
       "      <th>County</th>\n",
       "      <th>City</th>\n",
       "      <th>State</th>\n",
       "      <th>Postal Code</th>\n",
       "      <th>Model Year</th>\n",
       "      <th>Make</th>\n",
       "      <th>Model</th>\n",
       "      <th>Electric Vehicle Type</th>\n",
       "      <th>Clean Alternative Fuel Vehicle (CAFV) Eligibility</th>\n",
       "      <th>Electric Range</th>\n",
       "      <th>Base MSRP</th>\n",
       "      <th>Legislative District</th>\n",
       "      <th>DOL Vehicle ID</th>\n",
       "      <th>Vehicle Location</th>\n",
       "      <th>Electric Utility</th>\n",
       "      <th>2020 Census Tract</th>\n",
       "    </tr>\n",
       "  </thead>\n",
       "  <tbody>\n",
       "    <tr>\n",
       "      <th>0</th>\n",
       "      <td>5YJSA1E22K</td>\n",
       "      <td>King</td>\n",
       "      <td>Seattle</td>\n",
       "      <td>WA</td>\n",
       "      <td>98112.0</td>\n",
       "      <td>2019</td>\n",
       "      <td>TESLA</td>\n",
       "      <td>MODEL S</td>\n",
       "      <td>Battery Electric Vehicle (BEV)</td>\n",
       "      <td>Clean Alternative Fuel Vehicle Eligible</td>\n",
       "      <td>270</td>\n",
       "      <td>0</td>\n",
       "      <td>43.0</td>\n",
       "      <td>202233958</td>\n",
       "      <td>POINT (-122.300312 47.629782)</td>\n",
       "      <td>CITY OF SEATTLE - (WA)|CITY OF TACOMA - (WA)</td>\n",
       "      <td>5.303301e+10</td>\n",
       "    </tr>\n",
       "    <tr>\n",
       "      <th>1</th>\n",
       "      <td>3MW39FS05R</td>\n",
       "      <td>Yakima</td>\n",
       "      <td>Zillah</td>\n",
       "      <td>WA</td>\n",
       "      <td>98953.0</td>\n",
       "      <td>2024</td>\n",
       "      <td>BMW</td>\n",
       "      <td>330E</td>\n",
       "      <td>Plug-in Hybrid Electric Vehicle (PHEV)</td>\n",
       "      <td>Not eligible due to low battery range</td>\n",
       "      <td>20</td>\n",
       "      <td>0</td>\n",
       "      <td>15.0</td>\n",
       "      <td>264425178</td>\n",
       "      <td>POINT (-120.2658133 46.4063477)</td>\n",
       "      <td>PACIFICORP</td>\n",
       "      <td>5.307700e+10</td>\n",
       "    </tr>\n",
       "    <tr>\n",
       "      <th>2</th>\n",
       "      <td>1N4AZ0CP0F</td>\n",
       "      <td>King</td>\n",
       "      <td>Kent</td>\n",
       "      <td>WA</td>\n",
       "      <td>98031.0</td>\n",
       "      <td>2015</td>\n",
       "      <td>NISSAN</td>\n",
       "      <td>LEAF</td>\n",
       "      <td>Battery Electric Vehicle (BEV)</td>\n",
       "      <td>Clean Alternative Fuel Vehicle Eligible</td>\n",
       "      <td>84</td>\n",
       "      <td>0</td>\n",
       "      <td>11.0</td>\n",
       "      <td>114962025</td>\n",
       "      <td>POINT (-122.201564 47.402358)</td>\n",
       "      <td>PUGET SOUND ENERGY INC||CITY OF TACOMA - (WA)</td>\n",
       "      <td>5.303303e+10</td>\n",
       "    </tr>\n",
       "    <tr>\n",
       "      <th>3</th>\n",
       "      <td>5YJSA1H20F</td>\n",
       "      <td>Snohomish</td>\n",
       "      <td>Bothell</td>\n",
       "      <td>WA</td>\n",
       "      <td>98012.0</td>\n",
       "      <td>2015</td>\n",
       "      <td>TESLA</td>\n",
       "      <td>MODEL S</td>\n",
       "      <td>Battery Electric Vehicle (BEV)</td>\n",
       "      <td>Clean Alternative Fuel Vehicle Eligible</td>\n",
       "      <td>208</td>\n",
       "      <td>0</td>\n",
       "      <td>1.0</td>\n",
       "      <td>232724670</td>\n",
       "      <td>POINT (-122.206146 47.839957)</td>\n",
       "      <td>PUGET SOUND ENERGY INC</td>\n",
       "      <td>5.306105e+10</td>\n",
       "    </tr>\n",
       "    <tr>\n",
       "      <th>4</th>\n",
       "      <td>JTMAB3FV1N</td>\n",
       "      <td>Yakima</td>\n",
       "      <td>Yakima</td>\n",
       "      <td>WA</td>\n",
       "      <td>98908.0</td>\n",
       "      <td>2022</td>\n",
       "      <td>TOYOTA</td>\n",
       "      <td>RAV4 PRIME</td>\n",
       "      <td>Plug-in Hybrid Electric Vehicle (PHEV)</td>\n",
       "      <td>Clean Alternative Fuel Vehicle Eligible</td>\n",
       "      <td>42</td>\n",
       "      <td>0</td>\n",
       "      <td>14.0</td>\n",
       "      <td>221023589</td>\n",
       "      <td>POINT (-120.611068 46.596645)</td>\n",
       "      <td>PACIFICORP</td>\n",
       "      <td>5.307700e+10</td>\n",
       "    </tr>\n",
       "  </tbody>\n",
       "</table>\n",
       "</div>"
      ],
      "text/plain": [
       "   VIN (1-10)     County     City State  Postal Code  Model Year    Make  \\\n",
       "0  5YJSA1E22K       King  Seattle    WA      98112.0        2019   TESLA   \n",
       "1  3MW39FS05R     Yakima   Zillah    WA      98953.0        2024     BMW   \n",
       "2  1N4AZ0CP0F       King     Kent    WA      98031.0        2015  NISSAN   \n",
       "3  5YJSA1H20F  Snohomish  Bothell    WA      98012.0        2015   TESLA   \n",
       "4  JTMAB3FV1N     Yakima   Yakima    WA      98908.0        2022  TOYOTA   \n",
       "\n",
       "        Model                   Electric Vehicle Type  \\\n",
       "0     MODEL S          Battery Electric Vehicle (BEV)   \n",
       "1        330E  Plug-in Hybrid Electric Vehicle (PHEV)   \n",
       "2        LEAF          Battery Electric Vehicle (BEV)   \n",
       "3     MODEL S          Battery Electric Vehicle (BEV)   \n",
       "4  RAV4 PRIME  Plug-in Hybrid Electric Vehicle (PHEV)   \n",
       "\n",
       "  Clean Alternative Fuel Vehicle (CAFV) Eligibility  Electric Range  \\\n",
       "0           Clean Alternative Fuel Vehicle Eligible             270   \n",
       "1             Not eligible due to low battery range              20   \n",
       "2           Clean Alternative Fuel Vehicle Eligible              84   \n",
       "3           Clean Alternative Fuel Vehicle Eligible             208   \n",
       "4           Clean Alternative Fuel Vehicle Eligible              42   \n",
       "\n",
       "   Base MSRP  Legislative District  DOL Vehicle ID  \\\n",
       "0          0                  43.0       202233958   \n",
       "1          0                  15.0       264425178   \n",
       "2          0                  11.0       114962025   \n",
       "3          0                   1.0       232724670   \n",
       "4          0                  14.0       221023589   \n",
       "\n",
       "                  Vehicle Location  \\\n",
       "0    POINT (-122.300312 47.629782)   \n",
       "1  POINT (-120.2658133 46.4063477)   \n",
       "2    POINT (-122.201564 47.402358)   \n",
       "3    POINT (-122.206146 47.839957)   \n",
       "4    POINT (-120.611068 46.596645)   \n",
       "\n",
       "                                Electric Utility  2020 Census Tract  \n",
       "0   CITY OF SEATTLE - (WA)|CITY OF TACOMA - (WA)       5.303301e+10  \n",
       "1                                     PACIFICORP       5.307700e+10  \n",
       "2  PUGET SOUND ENERGY INC||CITY OF TACOMA - (WA)       5.303303e+10  \n",
       "3                         PUGET SOUND ENERGY INC       5.306105e+10  \n",
       "4                                     PACIFICORP       5.307700e+10  "
      ]
     },
     "execution_count": 8,
     "metadata": {},
     "output_type": "execute_result"
    }
   ],
   "source": [
    "df.head()"
   ]
  },
  {
   "cell_type": "code",
   "execution_count": 9,
   "id": "d217e5c7-faec-48b5-865c-77e30d076ea3",
   "metadata": {},
   "outputs": [
    {
     "name": "stdout",
     "output_type": "stream",
     "text": [
      "<class 'pandas.core.frame.DataFrame'>\n",
      "RangeIndex: 191407 entries, 0 to 191406\n",
      "Data columns (total 17 columns):\n",
      " #   Column                                             Non-Null Count   Dtype  \n",
      "---  ------                                             --------------   -----  \n",
      " 0   VIN (1-10)                                         191407 non-null  object \n",
      " 1   County                                             191403 non-null  object \n",
      " 2   City                                               191403 non-null  object \n",
      " 3   State                                              191407 non-null  object \n",
      " 4   Postal Code                                        191403 non-null  float64\n",
      " 5   Model Year                                         191407 non-null  int64  \n",
      " 6   Make                                               191407 non-null  object \n",
      " 7   Model                                              191407 non-null  object \n",
      " 8   Electric Vehicle Type                              191407 non-null  object \n",
      " 9   Clean Alternative Fuel Vehicle (CAFV) Eligibility  191407 non-null  object \n",
      " 10  Electric Range                                     191407 non-null  int64  \n",
      " 11  Base MSRP                                          191407 non-null  int64  \n",
      " 12  Legislative District                               190993 non-null  float64\n",
      " 13  DOL Vehicle ID                                     191407 non-null  int64  \n",
      " 14  Vehicle Location                                   191399 non-null  object \n",
      " 15  Electric Utility                                   191403 non-null  object \n",
      " 16  2020 Census Tract                                  191403 non-null  float64\n",
      "dtypes: float64(3), int64(4), object(10)\n",
      "memory usage: 24.8+ MB\n"
     ]
    }
   ],
   "source": [
    "# to check the data types of all variables\n",
    "df.info()"
   ]
  },
  {
   "cell_type": "code",
   "execution_count": 10,
   "id": "fe9255c1-858a-4e0a-aea0-daaa297a6af8",
   "metadata": {},
   "outputs": [
    {
     "data": {
      "text/html": [
       "<div>\n",
       "<style scoped>\n",
       "    .dataframe tbody tr th:only-of-type {\n",
       "        vertical-align: middle;\n",
       "    }\n",
       "\n",
       "    .dataframe tbody tr th {\n",
       "        vertical-align: top;\n",
       "    }\n",
       "\n",
       "    .dataframe thead th {\n",
       "        text-align: right;\n",
       "    }\n",
       "</style>\n",
       "<table border=\"1\" class=\"dataframe\">\n",
       "  <thead>\n",
       "    <tr style=\"text-align: right;\">\n",
       "      <th></th>\n",
       "      <th>Postal Code</th>\n",
       "      <th>Model Year</th>\n",
       "      <th>Electric Range</th>\n",
       "      <th>Base MSRP</th>\n",
       "      <th>Legislative District</th>\n",
       "      <th>DOL Vehicle ID</th>\n",
       "      <th>2020 Census Tract</th>\n",
       "    </tr>\n",
       "  </thead>\n",
       "  <tbody>\n",
       "    <tr>\n",
       "      <th>count</th>\n",
       "      <td>191403.000000</td>\n",
       "      <td>191407.000000</td>\n",
       "      <td>191407.000000</td>\n",
       "      <td>191407.000000</td>\n",
       "      <td>190993.000000</td>\n",
       "      <td>1.914070e+05</td>\n",
       "      <td>1.914030e+05</td>\n",
       "    </tr>\n",
       "    <tr>\n",
       "      <th>mean</th>\n",
       "      <td>98177.823603</td>\n",
       "      <td>2020.732335</td>\n",
       "      <td>55.657442</td>\n",
       "      <td>994.773258</td>\n",
       "      <td>29.016880</td>\n",
       "      <td>2.237202e+08</td>\n",
       "      <td>5.297759e+10</td>\n",
       "    </tr>\n",
       "    <tr>\n",
       "      <th>std</th>\n",
       "      <td>2392.808886</td>\n",
       "      <td>2.990487</td>\n",
       "      <td>90.151930</td>\n",
       "      <td>8050.523372</td>\n",
       "      <td>14.909417</td>\n",
       "      <td>7.398058e+07</td>\n",
       "      <td>1.573588e+09</td>\n",
       "    </tr>\n",
       "    <tr>\n",
       "      <th>min</th>\n",
       "      <td>1731.000000</td>\n",
       "      <td>1997.000000</td>\n",
       "      <td>0.000000</td>\n",
       "      <td>0.000000</td>\n",
       "      <td>1.000000</td>\n",
       "      <td>4.385000e+03</td>\n",
       "      <td>1.001020e+09</td>\n",
       "    </tr>\n",
       "    <tr>\n",
       "      <th>25%</th>\n",
       "      <td>98052.000000</td>\n",
       "      <td>2019.000000</td>\n",
       "      <td>0.000000</td>\n",
       "      <td>0.000000</td>\n",
       "      <td>17.000000</td>\n",
       "      <td>1.861622e+08</td>\n",
       "      <td>5.303301e+10</td>\n",
       "    </tr>\n",
       "    <tr>\n",
       "      <th>50%</th>\n",
       "      <td>98125.000000</td>\n",
       "      <td>2022.000000</td>\n",
       "      <td>0.000000</td>\n",
       "      <td>0.000000</td>\n",
       "      <td>33.000000</td>\n",
       "      <td>2.328176e+08</td>\n",
       "      <td>5.303303e+10</td>\n",
       "    </tr>\n",
       "    <tr>\n",
       "      <th>75%</th>\n",
       "      <td>98371.000000</td>\n",
       "      <td>2023.000000</td>\n",
       "      <td>72.000000</td>\n",
       "      <td>0.000000</td>\n",
       "      <td>42.000000</td>\n",
       "      <td>2.589708e+08</td>\n",
       "      <td>5.305307e+10</td>\n",
       "    </tr>\n",
       "    <tr>\n",
       "      <th>max</th>\n",
       "      <td>99577.000000</td>\n",
       "      <td>2025.000000</td>\n",
       "      <td>337.000000</td>\n",
       "      <td>845000.000000</td>\n",
       "      <td>49.000000</td>\n",
       "      <td>4.792548e+08</td>\n",
       "      <td>5.602100e+10</td>\n",
       "    </tr>\n",
       "  </tbody>\n",
       "</table>\n",
       "</div>"
      ],
      "text/plain": [
       "         Postal Code     Model Year  Electric Range      Base MSRP  \\\n",
       "count  191403.000000  191407.000000   191407.000000  191407.000000   \n",
       "mean    98177.823603    2020.732335       55.657442     994.773258   \n",
       "std      2392.808886       2.990487       90.151930    8050.523372   \n",
       "min      1731.000000    1997.000000        0.000000       0.000000   \n",
       "25%     98052.000000    2019.000000        0.000000       0.000000   \n",
       "50%     98125.000000    2022.000000        0.000000       0.000000   \n",
       "75%     98371.000000    2023.000000       72.000000       0.000000   \n",
       "max     99577.000000    2025.000000      337.000000  845000.000000   \n",
       "\n",
       "       Legislative District  DOL Vehicle ID  2020 Census Tract  \n",
       "count         190993.000000    1.914070e+05       1.914030e+05  \n",
       "mean              29.016880    2.237202e+08       5.297759e+10  \n",
       "std               14.909417    7.398058e+07       1.573588e+09  \n",
       "min                1.000000    4.385000e+03       1.001020e+09  \n",
       "25%               17.000000    1.861622e+08       5.303301e+10  \n",
       "50%               33.000000    2.328176e+08       5.303303e+10  \n",
       "75%               42.000000    2.589708e+08       5.305307e+10  \n",
       "max               49.000000    4.792548e+08       5.602100e+10  "
      ]
     },
     "execution_count": 10,
     "metadata": {},
     "output_type": "execute_result"
    }
   ],
   "source": [
    "# to display a description of the numeric columns\n",
    "df.describe()"
   ]
  },
  {
   "cell_type": "code",
   "execution_count": 11,
   "id": "d9b636e0-755b-4d41-9b0d-a0474637f7fe",
   "metadata": {},
   "outputs": [
    {
     "data": {
      "text/html": [
       "<div>\n",
       "<style scoped>\n",
       "    .dataframe tbody tr th:only-of-type {\n",
       "        vertical-align: middle;\n",
       "    }\n",
       "\n",
       "    .dataframe tbody tr th {\n",
       "        vertical-align: top;\n",
       "    }\n",
       "\n",
       "    .dataframe thead th {\n",
       "        text-align: right;\n",
       "    }\n",
       "</style>\n",
       "<table border=\"1\" class=\"dataframe\">\n",
       "  <thead>\n",
       "    <tr style=\"text-align: right;\">\n",
       "      <th></th>\n",
       "      <th>VIN (1-10)</th>\n",
       "      <th>County</th>\n",
       "      <th>City</th>\n",
       "      <th>State</th>\n",
       "      <th>Make</th>\n",
       "      <th>Model</th>\n",
       "      <th>Electric Vehicle Type</th>\n",
       "      <th>Clean Alternative Fuel Vehicle (CAFV) Eligibility</th>\n",
       "      <th>Vehicle Location</th>\n",
       "      <th>Electric Utility</th>\n",
       "    </tr>\n",
       "  </thead>\n",
       "  <tbody>\n",
       "    <tr>\n",
       "      <th>count</th>\n",
       "      <td>191407</td>\n",
       "      <td>191403</td>\n",
       "      <td>191403</td>\n",
       "      <td>191407</td>\n",
       "      <td>191407</td>\n",
       "      <td>191407</td>\n",
       "      <td>191407</td>\n",
       "      <td>191407</td>\n",
       "      <td>191399</td>\n",
       "      <td>191403</td>\n",
       "    </tr>\n",
       "    <tr>\n",
       "      <th>unique</th>\n",
       "      <td>11487</td>\n",
       "      <td>197</td>\n",
       "      <td>744</td>\n",
       "      <td>46</td>\n",
       "      <td>42</td>\n",
       "      <td>147</td>\n",
       "      <td>2</td>\n",
       "      <td>3</td>\n",
       "      <td>891</td>\n",
       "      <td>75</td>\n",
       "    </tr>\n",
       "    <tr>\n",
       "      <th>top</th>\n",
       "      <td>7SAYGDEE6P</td>\n",
       "      <td>King</td>\n",
       "      <td>Seattle</td>\n",
       "      <td>WA</td>\n",
       "      <td>TESLA</td>\n",
       "      <td>MODEL Y</td>\n",
       "      <td>Battery Electric Vehicle (BEV)</td>\n",
       "      <td>Eligibility unknown as battery range has not b...</td>\n",
       "      <td>POINT (-122.1207376 47.6705374)</td>\n",
       "      <td>PUGET SOUND ENERGY INC||CITY OF TACOMA - (WA)</td>\n",
       "    </tr>\n",
       "    <tr>\n",
       "      <th>freq</th>\n",
       "      <td>1236</td>\n",
       "      <td>99076</td>\n",
       "      <td>31436</td>\n",
       "      <td>190993</td>\n",
       "      <td>84670</td>\n",
       "      <td>39521</td>\n",
       "      <td>149687</td>\n",
       "      <td>102133</td>\n",
       "      <td>4858</td>\n",
       "      <td>70546</td>\n",
       "    </tr>\n",
       "  </tbody>\n",
       "</table>\n",
       "</div>"
      ],
      "text/plain": [
       "        VIN (1-10)  County     City   State    Make    Model  \\\n",
       "count       191407  191403   191403  191407  191407   191407   \n",
       "unique       11487     197      744      46      42      147   \n",
       "top     7SAYGDEE6P    King  Seattle      WA   TESLA  MODEL Y   \n",
       "freq          1236   99076    31436  190993   84670    39521   \n",
       "\n",
       "                 Electric Vehicle Type  \\\n",
       "count                           191407   \n",
       "unique                               2   \n",
       "top     Battery Electric Vehicle (BEV)   \n",
       "freq                            149687   \n",
       "\n",
       "        Clean Alternative Fuel Vehicle (CAFV) Eligibility  \\\n",
       "count                                              191407   \n",
       "unique                                                  3   \n",
       "top     Eligibility unknown as battery range has not b...   \n",
       "freq                                               102133   \n",
       "\n",
       "                       Vehicle Location  \\\n",
       "count                            191399   \n",
       "unique                              891   \n",
       "top     POINT (-122.1207376 47.6705374)   \n",
       "freq                               4858   \n",
       "\n",
       "                                     Electric Utility  \n",
       "count                                          191403  \n",
       "unique                                             75  \n",
       "top     PUGET SOUND ENERGY INC||CITY OF TACOMA - (WA)  \n",
       "freq                                            70546  "
      ]
     },
     "execution_count": 11,
     "metadata": {},
     "output_type": "execute_result"
    }
   ],
   "source": [
    "# to display a description all 'object' columns\n",
    "df.select_dtypes(\"object\").describe()"
   ]
  },
  {
   "cell_type": "code",
   "execution_count": 12,
   "id": "bb0b3fd4-3bc8-4fa1-add1-f2655e6f0d58",
   "metadata": {},
   "outputs": [],
   "source": [
    "## Asking GPT a Question\n",
    "# - system message describes the behavior of the AI assistant, the role that GPT will play\n",
    "# - user message describe what you want the AI assistant to say"
   ]
  },
  {
   "cell_type": "code",
   "execution_count": 13,
   "id": "2d1de549-70fa-4201-a912-a9f059450d28",
   "metadata": {},
   "outputs": [],
   "source": [
    "# Define the system message. Assign to system_msg_test\n",
    "system_msg_test = \"\"\"You are a helpful assistant who understands data science.\n",
    " You write in a clear language that a ten year old can understand.\n",
    " You keep your answers brief.\"\"\""
   ]
  },
  {
   "cell_type": "code",
   "execution_count": 14,
   "id": "c32f3d51-6319-4326-a7a2-200c6cdfb665",
   "metadata": {},
   "outputs": [],
   "source": [
    "# Define the user message. Assign to user_msg_test.\n",
    "user_msg_test = \"Tell me some uses of GPT for data analysis.\""
   ]
  },
  {
   "cell_type": "code",
   "execution_count": 15,
   "id": "002625c1-acf2-4a27-b4d9-a4b84c9e1638",
   "metadata": {},
   "outputs": [],
   "source": [
    "# to create a message list from the system and user message. Assign to msgs_test\n",
    "msgs_test = [\n",
    "    {\"role\": \"system\", \"content\": system_msg_test},\n",
    "    {\"role\": \"user\", \"content\": user_msg_test}\n",
    "]"
   ]
  },
  {
   "cell_type": "code",
   "execution_count": 16,
   "id": "211d15b3-ab84-4653-a242-a61dfb33f7e2",
   "metadata": {},
   "outputs": [],
   "source": [
    "# to send messages to GPT. Assign to rsps_test\n",
    "rsps_test = openai.chat.completions.create(\n",
    "    model = \"gpt-3.5-turbo\",\n",
    "    messages = msgs_test\n",
    ")"
   ]
  },
  {
   "cell_type": "code",
   "execution_count": 17,
   "id": "09913ac7-5ade-4a8d-bd5f-f7a7ff3a6997",
   "metadata": {},
   "outputs": [
    {
     "name": "stdout",
     "output_type": "stream",
     "text": [
      "The whole response\n",
      "\n",
      "\n",
      "ChatCompletion(id='chatcmpl-9gPTzfOhVI55LAoVl0Ig8Aggzpvag', choices=[Choice(finish_reason='stop', index=0, logprobs=None, message=ChatCompletionMessage(content='GPT can help analyze and summarize large amounts of text data, generate responses to customer inquiries, and assist in creating natural language processing models. It can also be used for language translation and sentiment analysis.', role='assistant', function_call=None, tool_calls=None))], created=1719894759, model='gpt-3.5-turbo-0125', object='chat.completion', service_tier=None, system_fingerprint=None, usage=CompletionUsage(completion_tokens=40, prompt_tokens=52, total_tokens=92))\n"
     ]
    }
   ],
   "source": [
    "# to print the whole GPT response\n",
    "print(\"The whole response\")\n",
    "print('\\n')\n",
    "print(rsps_test)"
   ]
  },
  {
   "cell_type": "code",
   "execution_count": 18,
   "id": "60291eee-7f70-4118-878c-6cccfcb60ba4",
   "metadata": {},
   "outputs": [
    {
     "name": "stdout",
     "output_type": "stream",
     "text": [
      "Just the response's content\n",
      "\n",
      "\n",
      "GPT can help analyze and summarize large amounts of text data, generate responses to customer inquiries, and assist in creating natural language processing models. It can also be used for language translation and sentiment analysis.\n"
     ]
    }
   ],
   "source": [
    "# to print only the response's content\n",
    "print(\"Just the response's content\")\n",
    "print('\\n')\n",
    "print(rsps_test.choices[0].message.content)"
   ]
  },
  {
   "cell_type": "code",
   "execution_count": 19,
   "id": "45017b52-1f7a-414a-b638-a2f7e1d5c8d9",
   "metadata": {},
   "outputs": [],
   "source": [
    "# to create a task for the AI. Assign to suggest_questions\n",
    "suggest_questions = \"Suggest some data analysis questions that could be answered with this dataset.\""
   ]
  },
  {
   "cell_type": "code",
   "execution_count": 20,
   "id": "c4f278ad-c7c3-44f2-a2a2-37f3ef9ee0cc",
   "metadata": {},
   "outputs": [],
   "source": [
    "# A description of the dataset\n",
    "dataset_description = \"\"\"\n",
    "You have a dataset about electric cars registered in Washington state, USA in 2020. It is available as a pandas DataFrame named `df`.\n",
    "\n",
    "Each row in the dataset represents the count of the number of cars registered within a city, for a particular model.\n",
    "\n",
    "The dataset contains the following columns.\n",
    "\n",
    "- `City` (character): The city in which the registered owner resides.\n",
    "- `County` (character): The county in which the registered owner resides.\n",
    "- `Model_Year` (integer): The [model year](https://en.wikipedia.org/wiki/Model_year#United_States_and_Canada) of the car.\n",
    "- `Make` (character): The manufacturer of the car.\n",
    "- `Model` (character): The model of the car.\n",
    "- `Electric_Vehicle_Type` (character): Either \"Plug-in Hybrid Electric Vehicle (PHEV)\" or \"Battery Electric Vehicle (BEV)\".\n",
    "- `n_cars` (integer): The count of the number of vehicles registered.\n",
    "\"\"\""
   ]
  },
  {
   "cell_type": "code",
   "execution_count": 21,
   "id": "cee75f29-d1ec-40a2-a3f1-dc49f8f5c238",
   "metadata": {},
   "outputs": [],
   "source": [
    "# Concatenate the dataset description and the request. Assign to msgs_suggest_questions.\n",
    "msgs_suggest_questions = [\n",
    "    SystemMessage(content =\"You are a data analysis expert.\"),\n",
    "    HumanMessage(content =f\"{dataset_description}\\n\\n{suggest_questions}\")\n",
    "]"
   ]
  },
  {
   "cell_type": "code",
   "execution_count": 43,
   "id": "6d25aae0-041a-4b08-9b07-229cfce0b0e8",
   "metadata": {},
   "outputs": [],
   "source": [
    "# Create a ChatOpenAI object. Assign to chat.\n",
    "chat = ChatOpenAI()"
   ]
  },
  {
   "cell_type": "code",
   "execution_count": 44,
   "id": "a521bfa9-54e7-45b4-a773-33db7e91f018",
   "metadata": {},
   "outputs": [],
   "source": [
    "# Pass your message to GPT. Assign to rsps_suggest_questions.\n",
    "rsps_suggest_questions = chat.invoke(msgs_suggest_questions)"
   ]
  },
  {
   "cell_type": "code",
   "execution_count": 45,
   "id": "646f8d08-b5ce-4584-9b23-34bbb0787b27",
   "metadata": {},
   "outputs": [
    {
     "name": "stdout",
     "output_type": "stream",
     "text": [
      "The whole response\n",
      "\n",
      "content='Here are some data analysis questions that could be explored using the dataset of electric cars registered in Washington state, USA in 2020:\\n\\n1. What is the distribution of electric vehicle types (PHEV vs BEV) in the dataset?\\n2. Which city had the highest number of electric cars registered in 2020?\\n3. What are the most popular electric car models among the registered vehicles?\\n4. How does the distribution of electric cars vary across different counties in Washington state?\\n5. Are there any trends in the registration of electric cars based on the model year?\\n6. Which electric vehicle manufacturers had the highest number of cars registered in Washington state in 2020?\\n7. Is there a difference in the number of registered electric cars between urban and rural areas?\\n8. Can we identify any correlations between the number of registered electric cars and factors such as income levels or environmental policies in different cities or counties?\\n\\nThese questions can help uncover insights about the adoption and distribution of electric vehicles in Washington state, which could be valuable for policymakers, car manufacturers, and other stakeholders in the electric vehicle industry.' response_metadata={'token_usage': {'completion_tokens': 222, 'prompt_tokens': 236, 'total_tokens': 458}, 'model_name': 'gpt-3.5-turbo', 'system_fingerprint': None, 'finish_reason': 'stop', 'logprobs': None} id='run-29f2e9f0-6172-45bd-8b2e-37aac62bc92a-0'\n"
     ]
    }
   ],
   "source": [
    "# Print the response\n",
    "print(\"The whole response\\n\")\n",
    "print(rsps_suggest_questions)"
   ]
  },
  {
   "cell_type": "code",
   "execution_count": 46,
   "id": "8e09bdf1-f290-47d1-85e3-e0e5da191ead",
   "metadata": {},
   "outputs": [
    {
     "name": "stdout",
     "output_type": "stream",
     "text": [
      "Just the response's content\n",
      "\n",
      "Here are some data analysis questions that could be explored using the dataset of electric cars registered in Washington state, USA in 2020:\n",
      "\n",
      "1. What is the distribution of electric vehicle types (PHEV vs BEV) in the dataset?\n",
      "2. Which city had the highest number of electric cars registered in 2020?\n",
      "3. What are the most popular electric car models among the registered vehicles?\n",
      "4. How does the distribution of electric cars vary across different counties in Washington state?\n",
      "5. Are there any trends in the registration of electric cars based on the model year?\n",
      "6. Which electric vehicle manufacturers had the highest number of cars registered in Washington state in 2020?\n",
      "7. Is there a difference in the number of registered electric cars between urban and rural areas?\n",
      "8. Can we identify any correlations between the number of registered electric cars and factors such as income levels or environmental policies in different cities or counties?\n",
      "\n",
      "These questions can help uncover insights about the adoption and distribution of electric vehicles in Washington state, which could be valuable for policymakers, car manufacturers, and other stakeholders in the electric vehicle industry.\n"
     ]
    }
   ],
   "source": [
    "# Print just the response's content\n",
    "print(\"Just the response's content\\n\")\n",
    "print(rsps_suggest_questions.content)"
   ]
  },
  {
   "cell_type": "code",
   "execution_count": 47,
   "id": "675b0e0a-9645-4fde-b7e9-b4533f73be01",
   "metadata": {},
   "outputs": [
    {
     "name": "stdout",
     "output_type": "stream",
     "text": [
      "The type of the response\n",
      "\n",
      "<class 'langchain_core.messages.ai.AIMessage'>\n"
     ]
    }
   ],
   "source": [
    "# Print the type of the response\n",
    "print(\"The type of the response\\n\")\n",
    "print(type(rsps_suggest_questions)) # it is an AI message, computer generated content"
   ]
  },
  {
   "cell_type": "code",
   "execution_count": 27,
   "id": "083898ac-12a0-4a6e-90d0-0c36fef21c91",
   "metadata": {},
   "outputs": [],
   "source": [
    "## Hold a conversation with GPT"
   ]
  },
  {
   "cell_type": "code",
   "execution_count": 48,
   "id": "bb44e83c-4c7e-48bb-bbd9-7229b6be112b",
   "metadata": {},
   "outputs": [],
   "source": [
    "# Append the response and a new message to the previous messages. \n",
    "# to add 2 lists together and assign to msgs_python_top_models.\n",
    "msgs_python_top_models = msgs_suggest_questions + [\n",
    "    rsps_suggest_questions,\n",
    "    HumanMessage(content = \"Write Python code to find the make/model combinations of electric car in Washington state\")\n",
    "]"
   ]
  },
  {
   "cell_type": "code",
   "execution_count": 49,
   "id": "7736d641-8ea5-4ed2-9324-29f16a42471b",
   "metadata": {},
   "outputs": [],
   "source": [
    "# Pass your message to GPT. Assign to rsps_python_top_models.\n",
    "rsps_python_top_models = chat.invoke(msgs_python_top_models)"
   ]
  },
  {
   "cell_type": "code",
   "execution_count": 50,
   "id": "0966ebc8-3631-4e2e-96bb-46758da67ca5",
   "metadata": {},
   "outputs": [
    {
     "data": {
      "text/markdown": [
       "You can find the make/model combinations of electric cars in Washington state by grouping the DataFrame by the 'Make' and 'Model' columns and counting the number of cars for each combination. Here's the Python code to achieve this:\n",
       "\n",
       "```python\n",
       "# Grouping the DataFrame by 'Make' and 'Model' columns and summing the 'n_cars' for each combination\n",
       "make_model_counts = df.groupby(['Make', 'Model'])['n_cars'].sum().reset_index()\n",
       "\n",
       "# Displaying the make/model combinations along with the total count of registered cars for each combination\n",
       "print(make_model_counts)\n",
       "```\n",
       "\n",
       "This code will provide you with a DataFrame that shows the make/model combinations of electric cars registered in Washington state along with the total count of cars for each combination."
      ],
      "text/plain": [
       "<IPython.core.display.Markdown object>"
      ]
     },
     "metadata": {},
     "output_type": "display_data"
    }
   ],
   "source": [
    "# Display the response's Markdown content\n",
    "display(Markdown(rsps_python_top_models.content))"
   ]
  },
  {
   "cell_type": "code",
   "execution_count": 51,
   "id": "958a9899-21c7-444f-9831-1abfffad1574",
   "metadata": {},
   "outputs": [
    {
     "name": "stdout",
     "output_type": "stream",
     "text": [
      "          Make        Model  count\n",
      "129      TESLA      MODEL Y  39521\n",
      "126      TESLA      MODEL 3  30978\n",
      "109     NISSAN         LEAF  13439\n",
      "127      TESLA      MODEL S   7869\n",
      "37   CHEVROLET      BOLT EV   6444\n",
      "..         ...          ...    ...\n",
      "111    PORSCHE          918      1\n",
      "38   CHEVROLET  S-10 PICKUP      1\n",
      "22         BMW         750E      1\n",
      "15     BENTLEY     BENTAYGA      1\n",
      "0        ACURA          ZDX      1\n",
      "\n",
      "[147 rows x 3 columns]\n"
     ]
    }
   ],
   "source": [
    "# to cut and paste the code generated from ChatGPT\n",
    "# Filter the DataFrame to include only electric cars\n",
    "electric_cars_df = df[df['Electric Vehicle Type'].str.contains('Electric Vehicle')]\n",
    "\n",
    "# to remove all duplicated values\n",
    "make_model_combinations = electric_cars_df[['Make', 'Model']].drop_duplicates()\n",
    "\n",
    "# group the data by make and model and count the number of occurences\n",
    "make_model_combinations = electric_cars_df.groupby([\"Make\",\"Model\"]).size().reset_index(name =\"count\")\n",
    "\n",
    "# Sort the combinations by count in descending order\n",
    "make_model_combinations = make_model_combinations.sort_values(\"count\", ascending=False)\n",
    "\n",
    "# Display the unique make/model combinations\n",
    "print(make_model_combinations)"
   ]
  },
  {
   "cell_type": "code",
   "execution_count": 32,
   "id": "4317844f-5fa0-4554-803e-1a40114fce7b",
   "metadata": {},
   "outputs": [],
   "source": [
    "# when temperature = 0, it means minimal randomness (to make it easier to reproduce results)\n",
    "# when temperature = 2, it means maximum randomness (often gives weird responses)\n",
    "# if you use OpenAI API, the default = 1\n",
    "# LangChain = 0.7"
   ]
  },
  {
   "cell_type": "code",
   "execution_count": 52,
   "id": "f9e740f7-a1cc-4226-8236-be8c9c4f8b31",
   "metadata": {},
   "outputs": [],
   "source": [
    "# Create a ChatOpenAI object. Assign to chat.\n",
    "chat0 = ChatOpenAI(temperature=0)"
   ]
  },
  {
   "cell_type": "code",
   "execution_count": 53,
   "id": "c4acea3b-37b7-4abb-aa0a-f480e95967e2",
   "metadata": {},
   "outputs": [],
   "source": [
    "# Pass your message to GPT. Assign to rsps_suggest_questions.\n",
    "msgs_python_plot = msgs_python_top_models + [\n",
    "    rsps_python_top_models,\n",
    "    HumanMessage(content=\"Write some python code to to draw a bar plot of the total count of electric cars by model year, with bars colored by electric vehicle type. Use the Plotly Express package\")\n",
    "]"
   ]
  },
  {
   "cell_type": "code",
   "execution_count": 54,
   "id": "fdffc5c1-0a28-4dc7-9a7e-bebc92366e1d",
   "metadata": {},
   "outputs": [],
   "source": [
    "# to pass message to GPT and assign to rsps_python_top_models\n",
    "rsps_python_plot = chat0.invoke(msgs_python_plot)"
   ]
  },
  {
   "cell_type": "code",
   "execution_count": 55,
   "id": "285e95bc-7ae3-4768-bbeb-407e98fd5bc3",
   "metadata": {},
   "outputs": [
    {
     "data": {
      "text/markdown": [
       "To draw a bar plot of the total count of electric cars by model year, with bars colored by electric vehicle type using Plotly Express, you can use the following Python code:\n",
       "\n",
       "```python\n",
       "import plotly.express as px\n",
       "\n",
       "# Grouping the DataFrame by 'Model_Year' and 'Electric_Vehicle_Type' columns and summing the 'n_cars' for each combination\n",
       "model_year_counts = df.groupby(['Model_Year', 'Electric_Vehicle_Type'])['n_cars'].sum().reset_index()\n",
       "\n",
       "# Creating the bar plot using Plotly Express\n",
       "fig = px.bar(model_year_counts, x='Model_Year', y='n_cars', color='Electric_Vehicle_Type',\n",
       "             labels={'n_cars': 'Total Count of Electric Cars', 'Model_Year': 'Model Year'},\n",
       "             title='Total Count of Electric Cars by Model Year (Colored by Electric Vehicle Type)')\n",
       "\n",
       "# Displaying the plot\n",
       "fig.show()\n",
       "```\n",
       "\n",
       "This code will generate a bar plot using Plotly Express that shows the total count of electric cars by model year, with bars colored by electric vehicle type. The x-axis represents the model year, the y-axis represents the total count of electric cars, and the bars are colored based on the electric vehicle type (PHEV or BEV)."
      ],
      "text/plain": [
       "<IPython.core.display.Markdown object>"
      ]
     },
     "metadata": {},
     "output_type": "display_data"
    }
   ],
   "source": [
    "# to display the response's Markdown content\n",
    "display(Markdown(rsps_python_plot.content))"
   ]
  },
  {
   "cell_type": "code",
   "execution_count": 56,
   "id": "a761b868-38a4-46fc-97a1-f0c64771cc83",
   "metadata": {},
   "outputs": [],
   "source": [
    "# to call GPT again with the same message list and display the response\n",
    "rsps_python_plot1 = chat0.invoke(msgs_python_plot)"
   ]
  },
  {
   "cell_type": "code",
   "execution_count": 57,
   "id": "a01ad226-48d1-4b79-a048-0832b8292d2c",
   "metadata": {},
   "outputs": [
    {
     "data": {
      "text/markdown": [
       "To draw a bar plot of the total count of electric cars by model year, with bars colored by electric vehicle type using Plotly Express, you can use the following Python code:\n",
       "\n",
       "```python\n",
       "import plotly.express as px\n",
       "\n",
       "# Grouping the DataFrame by 'Model_Year' and 'Electric_Vehicle_Type' columns and summing the 'n_cars' for each combination\n",
       "model_year_counts = df.groupby(['Model_Year', 'Electric_Vehicle_Type'])['n_cars'].sum().reset_index()\n",
       "\n",
       "# Creating the bar plot using Plotly Express\n",
       "fig = px.bar(model_year_counts, x='Model_Year', y='n_cars', color='Electric_Vehicle_Type',\n",
       "             labels={'n_cars': 'Total Count of Electric Cars', 'Model_Year': 'Model Year'},\n",
       "             title='Total Count of Electric Cars by Model Year (Colored by Electric Vehicle Type)')\n",
       "\n",
       "# Displaying the plot\n",
       "fig.show()\n",
       "```\n",
       "\n",
       "This code will generate a bar plot using Plotly Express that shows the total count of electric cars by model year, with bars colored by electric vehicle type (PHEV vs BEV). The plot will provide a visual representation of the distribution of electric cars by model year and electric vehicle type in Washington state."
      ],
      "text/plain": [
       "<IPython.core.display.Markdown object>"
      ]
     },
     "metadata": {},
     "output_type": "display_data"
    }
   ],
   "source": [
    "display(Markdown(rsps_python_plot1.content))"
   ]
  },
  {
   "cell_type": "code",
   "execution_count": 58,
   "id": "82d557d8-ff85-4edf-9c6a-afdeca78c36f",
   "metadata": {},
   "outputs": [],
   "source": [
    "# to Copy and Paste ChatGPT 3.5 instructions into Jupyter notebook and run the codes\n",
    "# to change all small letter to Capital letters when labelling axis and remove 'n_cars' always double check codes written by GPT\n",
    "import plotly.express as px"
   ]
  },
  {
   "cell_type": "code",
   "execution_count": 59,
   "id": "178a50e6-86d2-4069-865a-02fc238e68fc",
   "metadata": {},
   "outputs": [],
   "source": [
    "# Filter the DataFrame to include only electric vehicles\n",
    "electric_cars = df[df['Electric Vehicle Type'].str.contains('Electric Vehicle')]\n",
    "\n",
    "# Group by model year and electric vehicle type to get the total count of electric cars\n",
    "grouped_data = electric_cars.groupby(['Model Year', 'Electric Vehicle Type']).size().reset_index(name=\"count\")"
   ]
  },
  {
   "cell_type": "code",
   "execution_count": 60,
   "id": "f95d58a2-8586-42aa-b7ad-4d624b54672f",
   "metadata": {},
   "outputs": [
    {
     "data": {
      "application/vnd.plotly.v1+json": {
       "config": {
        "plotlyServerURL": "https://plot.ly"
       },
       "data": [
        {
         "alignmentgroup": "True",
         "hovertemplate": "Electric Vehicle Type=Battery Electric Vehicle (BEV)<br>Model Year=%{x}<br>Count=%{y}<extra></extra>",
         "legendgroup": "Battery Electric Vehicle (BEV)",
         "marker": {
          "color": "#636efa",
          "pattern": {
           "shape": ""
          }
         },
         "name": "Battery Electric Vehicle (BEV)",
         "offsetgroup": "Battery Electric Vehicle (BEV)",
         "orientation": "v",
         "showlegend": true,
         "textposition": "auto",
         "type": "bar",
         "x": [
          1997,
          1998,
          1999,
          2000,
          2002,
          2003,
          2008,
          2010,
          2011,
          2012,
          2013,
          2014,
          2015,
          2016,
          2017,
          2018,
          2019,
          2020,
          2021,
          2022,
          2023,
          2024,
          2025
         ],
         "xaxis": "x",
         "y": [
          1,
          1,
          5,
          7,
          2,
          1,
          21,
          21,
          668,
          750,
          2784,
          1737,
          3520,
          3783,
          4582,
          9991,
          8896,
          10322,
          15636,
          23715,
          52210,
          11029,
          5
         ],
         "yaxis": "y"
        },
        {
         "alignmentgroup": "True",
         "hovertemplate": "Electric Vehicle Type=Plug-in Hybrid Electric Vehicle (PHEV)<br>Model Year=%{x}<br>Count=%{y}<extra></extra>",
         "legendgroup": "Plug-in Hybrid Electric Vehicle (PHEV)",
         "marker": {
          "color": "#EF553B",
          "pattern": {
           "shape": ""
          }
         },
         "name": "Plug-in Hybrid Electric Vehicle (PHEV)",
         "offsetgroup": "Plug-in Hybrid Electric Vehicle (PHEV)",
         "orientation": "v",
         "showlegend": true,
         "textposition": "auto",
         "type": "bar",
         "x": [
          2010,
          2011,
          2012,
          2013,
          2014,
          2015,
          2016,
          2017,
          2018,
          2019,
          2020,
          2021,
          2022,
          2023,
          2024,
          2025
         ],
         "xaxis": "x",
         "y": [
          3,
          68,
          845,
          1579,
          1796,
          1298,
          1745,
          4068,
          4349,
          2037,
          1827,
          3895,
          4401,
          7874,
          5934,
          1
         ],
         "yaxis": "y"
        }
       ],
       "layout": {
        "autosize": true,
        "barmode": "group",
        "legend": {
         "title": {
          "text": "Electric Vehicle Type"
         },
         "tracegroupgap": 0
        },
        "template": {
         "data": {
          "bar": [
           {
            "error_x": {
             "color": "#2a3f5f"
            },
            "error_y": {
             "color": "#2a3f5f"
            },
            "marker": {
             "line": {
              "color": "#E5ECF6",
              "width": 0.5
             },
             "pattern": {
              "fillmode": "overlay",
              "size": 10,
              "solidity": 0.2
             }
            },
            "type": "bar"
           }
          ],
          "barpolar": [
           {
            "marker": {
             "line": {
              "color": "#E5ECF6",
              "width": 0.5
             },
             "pattern": {
              "fillmode": "overlay",
              "size": 10,
              "solidity": 0.2
             }
            },
            "type": "barpolar"
           }
          ],
          "carpet": [
           {
            "aaxis": {
             "endlinecolor": "#2a3f5f",
             "gridcolor": "white",
             "linecolor": "white",
             "minorgridcolor": "white",
             "startlinecolor": "#2a3f5f"
            },
            "baxis": {
             "endlinecolor": "#2a3f5f",
             "gridcolor": "white",
             "linecolor": "white",
             "minorgridcolor": "white",
             "startlinecolor": "#2a3f5f"
            },
            "type": "carpet"
           }
          ],
          "choropleth": [
           {
            "colorbar": {
             "outlinewidth": 0,
             "ticks": ""
            },
            "type": "choropleth"
           }
          ],
          "contour": [
           {
            "colorbar": {
             "outlinewidth": 0,
             "ticks": ""
            },
            "colorscale": [
             [
              0,
              "#0d0887"
             ],
             [
              0.1111111111111111,
              "#46039f"
             ],
             [
              0.2222222222222222,
              "#7201a8"
             ],
             [
              0.3333333333333333,
              "#9c179e"
             ],
             [
              0.4444444444444444,
              "#bd3786"
             ],
             [
              0.5555555555555556,
              "#d8576b"
             ],
             [
              0.6666666666666666,
              "#ed7953"
             ],
             [
              0.7777777777777778,
              "#fb9f3a"
             ],
             [
              0.8888888888888888,
              "#fdca26"
             ],
             [
              1,
              "#f0f921"
             ]
            ],
            "type": "contour"
           }
          ],
          "contourcarpet": [
           {
            "colorbar": {
             "outlinewidth": 0,
             "ticks": ""
            },
            "type": "contourcarpet"
           }
          ],
          "heatmap": [
           {
            "colorbar": {
             "outlinewidth": 0,
             "ticks": ""
            },
            "colorscale": [
             [
              0,
              "#0d0887"
             ],
             [
              0.1111111111111111,
              "#46039f"
             ],
             [
              0.2222222222222222,
              "#7201a8"
             ],
             [
              0.3333333333333333,
              "#9c179e"
             ],
             [
              0.4444444444444444,
              "#bd3786"
             ],
             [
              0.5555555555555556,
              "#d8576b"
             ],
             [
              0.6666666666666666,
              "#ed7953"
             ],
             [
              0.7777777777777778,
              "#fb9f3a"
             ],
             [
              0.8888888888888888,
              "#fdca26"
             ],
             [
              1,
              "#f0f921"
             ]
            ],
            "type": "heatmap"
           }
          ],
          "heatmapgl": [
           {
            "colorbar": {
             "outlinewidth": 0,
             "ticks": ""
            },
            "colorscale": [
             [
              0,
              "#0d0887"
             ],
             [
              0.1111111111111111,
              "#46039f"
             ],
             [
              0.2222222222222222,
              "#7201a8"
             ],
             [
              0.3333333333333333,
              "#9c179e"
             ],
             [
              0.4444444444444444,
              "#bd3786"
             ],
             [
              0.5555555555555556,
              "#d8576b"
             ],
             [
              0.6666666666666666,
              "#ed7953"
             ],
             [
              0.7777777777777778,
              "#fb9f3a"
             ],
             [
              0.8888888888888888,
              "#fdca26"
             ],
             [
              1,
              "#f0f921"
             ]
            ],
            "type": "heatmapgl"
           }
          ],
          "histogram": [
           {
            "marker": {
             "pattern": {
              "fillmode": "overlay",
              "size": 10,
              "solidity": 0.2
             }
            },
            "type": "histogram"
           }
          ],
          "histogram2d": [
           {
            "colorbar": {
             "outlinewidth": 0,
             "ticks": ""
            },
            "colorscale": [
             [
              0,
              "#0d0887"
             ],
             [
              0.1111111111111111,
              "#46039f"
             ],
             [
              0.2222222222222222,
              "#7201a8"
             ],
             [
              0.3333333333333333,
              "#9c179e"
             ],
             [
              0.4444444444444444,
              "#bd3786"
             ],
             [
              0.5555555555555556,
              "#d8576b"
             ],
             [
              0.6666666666666666,
              "#ed7953"
             ],
             [
              0.7777777777777778,
              "#fb9f3a"
             ],
             [
              0.8888888888888888,
              "#fdca26"
             ],
             [
              1,
              "#f0f921"
             ]
            ],
            "type": "histogram2d"
           }
          ],
          "histogram2dcontour": [
           {
            "colorbar": {
             "outlinewidth": 0,
             "ticks": ""
            },
            "colorscale": [
             [
              0,
              "#0d0887"
             ],
             [
              0.1111111111111111,
              "#46039f"
             ],
             [
              0.2222222222222222,
              "#7201a8"
             ],
             [
              0.3333333333333333,
              "#9c179e"
             ],
             [
              0.4444444444444444,
              "#bd3786"
             ],
             [
              0.5555555555555556,
              "#d8576b"
             ],
             [
              0.6666666666666666,
              "#ed7953"
             ],
             [
              0.7777777777777778,
              "#fb9f3a"
             ],
             [
              0.8888888888888888,
              "#fdca26"
             ],
             [
              1,
              "#f0f921"
             ]
            ],
            "type": "histogram2dcontour"
           }
          ],
          "mesh3d": [
           {
            "colorbar": {
             "outlinewidth": 0,
             "ticks": ""
            },
            "type": "mesh3d"
           }
          ],
          "parcoords": [
           {
            "line": {
             "colorbar": {
              "outlinewidth": 0,
              "ticks": ""
             }
            },
            "type": "parcoords"
           }
          ],
          "pie": [
           {
            "automargin": true,
            "type": "pie"
           }
          ],
          "scatter": [
           {
            "fillpattern": {
             "fillmode": "overlay",
             "size": 10,
             "solidity": 0.2
            },
            "type": "scatter"
           }
          ],
          "scatter3d": [
           {
            "line": {
             "colorbar": {
              "outlinewidth": 0,
              "ticks": ""
             }
            },
            "marker": {
             "colorbar": {
              "outlinewidth": 0,
              "ticks": ""
             }
            },
            "type": "scatter3d"
           }
          ],
          "scattercarpet": [
           {
            "marker": {
             "colorbar": {
              "outlinewidth": 0,
              "ticks": ""
             }
            },
            "type": "scattercarpet"
           }
          ],
          "scattergeo": [
           {
            "marker": {
             "colorbar": {
              "outlinewidth": 0,
              "ticks": ""
             }
            },
            "type": "scattergeo"
           }
          ],
          "scattergl": [
           {
            "marker": {
             "colorbar": {
              "outlinewidth": 0,
              "ticks": ""
             }
            },
            "type": "scattergl"
           }
          ],
          "scattermapbox": [
           {
            "marker": {
             "colorbar": {
              "outlinewidth": 0,
              "ticks": ""
             }
            },
            "type": "scattermapbox"
           }
          ],
          "scatterpolar": [
           {
            "marker": {
             "colorbar": {
              "outlinewidth": 0,
              "ticks": ""
             }
            },
            "type": "scatterpolar"
           }
          ],
          "scatterpolargl": [
           {
            "marker": {
             "colorbar": {
              "outlinewidth": 0,
              "ticks": ""
             }
            },
            "type": "scatterpolargl"
           }
          ],
          "scatterternary": [
           {
            "marker": {
             "colorbar": {
              "outlinewidth": 0,
              "ticks": ""
             }
            },
            "type": "scatterternary"
           }
          ],
          "surface": [
           {
            "colorbar": {
             "outlinewidth": 0,
             "ticks": ""
            },
            "colorscale": [
             [
              0,
              "#0d0887"
             ],
             [
              0.1111111111111111,
              "#46039f"
             ],
             [
              0.2222222222222222,
              "#7201a8"
             ],
             [
              0.3333333333333333,
              "#9c179e"
             ],
             [
              0.4444444444444444,
              "#bd3786"
             ],
             [
              0.5555555555555556,
              "#d8576b"
             ],
             [
              0.6666666666666666,
              "#ed7953"
             ],
             [
              0.7777777777777778,
              "#fb9f3a"
             ],
             [
              0.8888888888888888,
              "#fdca26"
             ],
             [
              1,
              "#f0f921"
             ]
            ],
            "type": "surface"
           }
          ],
          "table": [
           {
            "cells": {
             "fill": {
              "color": "#EBF0F8"
             },
             "line": {
              "color": "white"
             }
            },
            "header": {
             "fill": {
              "color": "#C8D4E3"
             },
             "line": {
              "color": "white"
             }
            },
            "type": "table"
           }
          ]
         },
         "layout": {
          "annotationdefaults": {
           "arrowcolor": "#2a3f5f",
           "arrowhead": 0,
           "arrowwidth": 1
          },
          "autotypenumbers": "strict",
          "coloraxis": {
           "colorbar": {
            "outlinewidth": 0,
            "ticks": ""
           }
          },
          "colorscale": {
           "diverging": [
            [
             0,
             "#8e0152"
            ],
            [
             0.1,
             "#c51b7d"
            ],
            [
             0.2,
             "#de77ae"
            ],
            [
             0.3,
             "#f1b6da"
            ],
            [
             0.4,
             "#fde0ef"
            ],
            [
             0.5,
             "#f7f7f7"
            ],
            [
             0.6,
             "#e6f5d0"
            ],
            [
             0.7,
             "#b8e186"
            ],
            [
             0.8,
             "#7fbc41"
            ],
            [
             0.9,
             "#4d9221"
            ],
            [
             1,
             "#276419"
            ]
           ],
           "sequential": [
            [
             0,
             "#0d0887"
            ],
            [
             0.1111111111111111,
             "#46039f"
            ],
            [
             0.2222222222222222,
             "#7201a8"
            ],
            [
             0.3333333333333333,
             "#9c179e"
            ],
            [
             0.4444444444444444,
             "#bd3786"
            ],
            [
             0.5555555555555556,
             "#d8576b"
            ],
            [
             0.6666666666666666,
             "#ed7953"
            ],
            [
             0.7777777777777778,
             "#fb9f3a"
            ],
            [
             0.8888888888888888,
             "#fdca26"
            ],
            [
             1,
             "#f0f921"
            ]
           ],
           "sequentialminus": [
            [
             0,
             "#0d0887"
            ],
            [
             0.1111111111111111,
             "#46039f"
            ],
            [
             0.2222222222222222,
             "#7201a8"
            ],
            [
             0.3333333333333333,
             "#9c179e"
            ],
            [
             0.4444444444444444,
             "#bd3786"
            ],
            [
             0.5555555555555556,
             "#d8576b"
            ],
            [
             0.6666666666666666,
             "#ed7953"
            ],
            [
             0.7777777777777778,
             "#fb9f3a"
            ],
            [
             0.8888888888888888,
             "#fdca26"
            ],
            [
             1,
             "#f0f921"
            ]
           ]
          },
          "colorway": [
           "#636efa",
           "#EF553B",
           "#00cc96",
           "#ab63fa",
           "#FFA15A",
           "#19d3f3",
           "#FF6692",
           "#B6E880",
           "#FF97FF",
           "#FECB52"
          ],
          "font": {
           "color": "#2a3f5f"
          },
          "geo": {
           "bgcolor": "white",
           "lakecolor": "white",
           "landcolor": "#E5ECF6",
           "showlakes": true,
           "showland": true,
           "subunitcolor": "white"
          },
          "hoverlabel": {
           "align": "left"
          },
          "hovermode": "closest",
          "mapbox": {
           "style": "light"
          },
          "paper_bgcolor": "white",
          "plot_bgcolor": "#E5ECF6",
          "polar": {
           "angularaxis": {
            "gridcolor": "white",
            "linecolor": "white",
            "ticks": ""
           },
           "bgcolor": "#E5ECF6",
           "radialaxis": {
            "gridcolor": "white",
            "linecolor": "white",
            "ticks": ""
           }
          },
          "scene": {
           "xaxis": {
            "backgroundcolor": "#E5ECF6",
            "gridcolor": "white",
            "gridwidth": 2,
            "linecolor": "white",
            "showbackground": true,
            "ticks": "",
            "zerolinecolor": "white"
           },
           "yaxis": {
            "backgroundcolor": "#E5ECF6",
            "gridcolor": "white",
            "gridwidth": 2,
            "linecolor": "white",
            "showbackground": true,
            "ticks": "",
            "zerolinecolor": "white"
           },
           "zaxis": {
            "backgroundcolor": "#E5ECF6",
            "gridcolor": "white",
            "gridwidth": 2,
            "linecolor": "white",
            "showbackground": true,
            "ticks": "",
            "zerolinecolor": "white"
           }
          },
          "shapedefaults": {
           "line": {
            "color": "#2a3f5f"
           }
          },
          "ternary": {
           "aaxis": {
            "gridcolor": "white",
            "linecolor": "white",
            "ticks": ""
           },
           "baxis": {
            "gridcolor": "white",
            "linecolor": "white",
            "ticks": ""
           },
           "bgcolor": "#E5ECF6",
           "caxis": {
            "gridcolor": "white",
            "linecolor": "white",
            "ticks": ""
           }
          },
          "title": {
           "x": 0.05
          },
          "xaxis": {
           "automargin": true,
           "gridcolor": "white",
           "linecolor": "white",
           "ticks": "",
           "title": {
            "standoff": 15
           },
           "zerolinecolor": "white",
           "zerolinewidth": 2
          },
          "yaxis": {
           "automargin": true,
           "gridcolor": "white",
           "linecolor": "white",
           "ticks": "",
           "title": {
            "standoff": 15
           },
           "zerolinecolor": "white",
           "zerolinewidth": 2
          }
         }
        },
        "title": {
         "text": "Total Count of Electric Cars by Model Year"
        },
        "xaxis": {
         "anchor": "y",
         "autorange": true,
         "domain": [
          0,
          1
         ],
         "range": [
          1996.5,
          2025.5
         ],
         "title": {
          "text": "Model Year"
         },
         "type": "linear"
        },
        "yaxis": {
         "anchor": "x",
         "autorange": true,
         "domain": [
          0,
          1
         ],
         "range": [
          0,
          54957.89473684211
         ],
         "title": {
          "text": "Count"
         },
         "type": "linear"
        }
       }
      },
      "image/png": "[encoded data removed]",
      "text/html": [
       "<div>                            <div id=\"691c8d70-b4dd-425e-bdf1-208eabde4801\" class=\"plotly-graph-div\" style=\"height:525px; width:100%;\"></div>            <script type=\"text/javascript\">                require([\"plotly\"], function(Plotly) {                    window.PLOTLYENV=window.PLOTLYENV || {};                                    if (document.getElementById(\"691c8d70-b4dd-425e-bdf1-208eabde4801\")) {                    Plotly.newPlot(                        \"691c8d70-b4dd-425e-bdf1-208eabde4801\",                        [{\"alignmentgroup\":\"True\",\"hovertemplate\":\"Electric Vehicle Type=Battery Electric Vehicle (BEV)<br>Model Year=%{x}<br>Count=%{y}<extra></extra>\",\"legendgroup\":\"Battery Electric Vehicle (BEV)\",\"marker\":{\"color\":\"#636efa\",\"pattern\":{\"shape\":\"\"}},\"name\":\"Battery Electric Vehicle (BEV)\",\"offsetgroup\":\"Battery Electric Vehicle (BEV)\",\"orientation\":\"v\",\"showlegend\":true,\"textposition\":\"auto\",\"x\":[1997,1998,1999,2000,2002,2003,2008,2010,2011,2012,2013,2014,2015,2016,2017,2018,2019,2020,2021,2022,2023,2024,2025],\"xaxis\":\"x\",\"y\":[1,1,5,7,2,1,21,21,668,750,2784,1737,3520,3783,4582,9991,8896,10322,15636,23715,52210,11029,5],\"yaxis\":\"y\",\"type\":\"bar\"},{\"alignmentgroup\":\"True\",\"hovertemplate\":\"Electric Vehicle Type=Plug-in Hybrid Electric Vehicle (PHEV)<br>Model Year=%{x}<br>Count=%{y}<extra></extra>\",\"legendgroup\":\"Plug-in Hybrid Electric Vehicle (PHEV)\",\"marker\":{\"color\":\"#EF553B\",\"pattern\":{\"shape\":\"\"}},\"name\":\"Plug-in Hybrid Electric Vehicle (PHEV)\",\"offsetgroup\":\"Plug-in Hybrid Electric Vehicle (PHEV)\",\"orientation\":\"v\",\"showlegend\":true,\"textposition\":\"auto\",\"x\":[2010,2011,2012,2013,2014,2015,2016,2017,2018,2019,2020,2021,2022,2023,2024,2025],\"xaxis\":\"x\",\"y\":[3,68,845,1579,1796,1298,1745,4068,4349,2037,1827,3895,4401,7874,5934,1],\"yaxis\":\"y\",\"type\":\"bar\"}],                        {\"template\":{\"data\":{\"histogram2dcontour\":[{\"type\":\"histogram2dcontour\",\"colorbar\":{\"outlinewidth\":0,\"ticks\":\"\"},\"colorscale\":[[0.0,\"#0d0887\"],[0.1111111111111111,\"#46039f\"],[0.2222222222222222,\"#7201a8\"],[0.3333333333333333,\"#9c179e\"],[0.4444444444444444,\"#bd3786\"],[0.5555555555555556,\"#d8576b\"],[0.6666666666666666,\"#ed7953\"],[0.7777777777777778,\"#fb9f3a\"],[0.8888888888888888,\"#fdca26\"],[1.0,\"#f0f921\"]]}],\"choropleth\":[{\"type\":\"choropleth\",\"colorbar\":{\"outlinewidth\":0,\"ticks\":\"\"}}],\"histogram2d\":[{\"type\":\"histogram2d\",\"colorbar\":{\"outlinewidth\":0,\"ticks\":\"\"},\"colorscale\":[[0.0,\"#0d0887\"],[0.1111111111111111,\"#46039f\"],[0.2222222222222222,\"#7201a8\"],[0.3333333333333333,\"#9c179e\"],[0.4444444444444444,\"#bd3786\"],[0.5555555555555556,\"#d8576b\"],[0.6666666666666666,\"#ed7953\"],[0.7777777777777778,\"#fb9f3a\"],[0.8888888888888888,\"#fdca26\"],[1.0,\"#f0f921\"]]}],\"heatmap\":[{\"type\":\"heatmap\",\"colorbar\":{\"outlinewidth\":0,\"ticks\":\"\"},\"colorscale\":[[0.0,\"#0d0887\"],[0.1111111111111111,\"#46039f\"],[0.2222222222222222,\"#7201a8\"],[0.3333333333333333,\"#9c179e\"],[0.4444444444444444,\"#bd3786\"],[0.5555555555555556,\"#d8576b\"],[0.6666666666666666,\"#ed7953\"],[0.7777777777777778,\"#fb9f3a\"],[0.8888888888888888,\"#fdca26\"],[1.0,\"#f0f921\"]]}],\"heatmapgl\":[{\"type\":\"heatmapgl\",\"colorbar\":{\"outlinewidth\":0,\"ticks\":\"\"},\"colorscale\":[[0.0,\"#0d0887\"],[0.1111111111111111,\"#46039f\"],[0.2222222222222222,\"#7201a8\"],[0.3333333333333333,\"#9c179e\"],[0.4444444444444444,\"#bd3786\"],[0.5555555555555556,\"#d8576b\"],[0.6666666666666666,\"#ed7953\"],[0.7777777777777778,\"#fb9f3a\"],[0.8888888888888888,\"#fdca26\"],[1.0,\"#f0f921\"]]}],\"contourcarpet\":[{\"type\":\"contourcarpet\",\"colorbar\":{\"outlinewidth\":0,\"ticks\":\"\"}}],\"contour\":[{\"type\":\"contour\",\"colorbar\":{\"outlinewidth\":0,\"ticks\":\"\"},\"colorscale\":[[0.0,\"#0d0887\"],[0.1111111111111111,\"#46039f\"],[0.2222222222222222,\"#7201a8\"],[0.3333333333333333,\"#9c179e\"],[0.4444444444444444,\"#bd3786\"],[0.5555555555555556,\"#d8576b\"],[0.6666666666666666,\"#ed7953\"],[0.7777777777777778,\"#fb9f3a\"],[0.8888888888888888,\"#fdca26\"],[1.0,\"#f0f921\"]]}],\"surface\":[{\"type\":\"surface\",\"colorbar\":{\"outlinewidth\":0,\"ticks\":\"\"},\"colorscale\":[[0.0,\"#0d0887\"],[0.1111111111111111,\"#46039f\"],[0.2222222222222222,\"#7201a8\"],[0.3333333333333333,\"#9c179e\"],[0.4444444444444444,\"#bd3786\"],[0.5555555555555556,\"#d8576b\"],[0.6666666666666666,\"#ed7953\"],[0.7777777777777778,\"#fb9f3a\"],[0.8888888888888888,\"#fdca26\"],[1.0,\"#f0f921\"]]}],\"mesh3d\":[{\"type\":\"mesh3d\",\"colorbar\":{\"outlinewidth\":0,\"ticks\":\"\"}}],\"scatter\":[{\"fillpattern\":{\"fillmode\":\"overlay\",\"size\":10,\"solidity\":0.2},\"type\":\"scatter\"}],\"parcoords\":[{\"type\":\"parcoords\",\"line\":{\"colorbar\":{\"outlinewidth\":0,\"ticks\":\"\"}}}],\"scatterpolargl\":[{\"type\":\"scatterpolargl\",\"marker\":{\"colorbar\":{\"outlinewidth\":0,\"ticks\":\"\"}}}],\"bar\":[{\"error_x\":{\"color\":\"#2a3f5f\"},\"error_y\":{\"color\":\"#2a3f5f\"},\"marker\":{\"line\":{\"color\":\"#E5ECF6\",\"width\":0.5},\"pattern\":{\"fillmode\":\"overlay\",\"size\":10,\"solidity\":0.2}},\"type\":\"bar\"}],\"scattergeo\":[{\"type\":\"scattergeo\",\"marker\":{\"colorbar\":{\"outlinewidth\":0,\"ticks\":\"\"}}}],\"scatterpolar\":[{\"type\":\"scatterpolar\",\"marker\":{\"colorbar\":{\"outlinewidth\":0,\"ticks\":\"\"}}}],\"histogram\":[{\"marker\":{\"pattern\":{\"fillmode\":\"overlay\",\"size\":10,\"solidity\":0.2}},\"type\":\"histogram\"}],\"scattergl\":[{\"type\":\"scattergl\",\"marker\":{\"colorbar\":{\"outlinewidth\":0,\"ticks\":\"\"}}}],\"scatter3d\":[{\"type\":\"scatter3d\",\"line\":{\"colorbar\":{\"outlinewidth\":0,\"ticks\":\"\"}},\"marker\":{\"colorbar\":{\"outlinewidth\":0,\"ticks\":\"\"}}}],\"scattermapbox\":[{\"type\":\"scattermapbox\",\"marker\":{\"colorbar\":{\"outlinewidth\":0,\"ticks\":\"\"}}}],\"scatterternary\":[{\"type\":\"scatterternary\",\"marker\":{\"colorbar\":{\"outlinewidth\":0,\"ticks\":\"\"}}}],\"scattercarpet\":[{\"type\":\"scattercarpet\",\"marker\":{\"colorbar\":{\"outlinewidth\":0,\"ticks\":\"\"}}}],\"carpet\":[{\"aaxis\":{\"endlinecolor\":\"#2a3f5f\",\"gridcolor\":\"white\",\"linecolor\":\"white\",\"minorgridcolor\":\"white\",\"startlinecolor\":\"#2a3f5f\"},\"baxis\":{\"endlinecolor\":\"#2a3f5f\",\"gridcolor\":\"white\",\"linecolor\":\"white\",\"minorgridcolor\":\"white\",\"startlinecolor\":\"#2a3f5f\"},\"type\":\"carpet\"}],\"table\":[{\"cells\":{\"fill\":{\"color\":\"#EBF0F8\"},\"line\":{\"color\":\"white\"}},\"header\":{\"fill\":{\"color\":\"#C8D4E3\"},\"line\":{\"color\":\"white\"}},\"type\":\"table\"}],\"barpolar\":[{\"marker\":{\"line\":{\"color\":\"#E5ECF6\",\"width\":0.5},\"pattern\":{\"fillmode\":\"overlay\",\"size\":10,\"solidity\":0.2}},\"type\":\"barpolar\"}],\"pie\":[{\"automargin\":true,\"type\":\"pie\"}]},\"layout\":{\"autotypenumbers\":\"strict\",\"colorway\":[\"#636efa\",\"#EF553B\",\"#00cc96\",\"#ab63fa\",\"#FFA15A\",\"#19d3f3\",\"#FF6692\",\"#B6E880\",\"#FF97FF\",\"#FECB52\"],\"font\":{\"color\":\"#2a3f5f\"},\"hovermode\":\"closest\",\"hoverlabel\":{\"align\":\"left\"},\"paper_bgcolor\":\"white\",\"plot_bgcolor\":\"#E5ECF6\",\"polar\":{\"bgcolor\":\"#E5ECF6\",\"angularaxis\":{\"gridcolor\":\"white\",\"linecolor\":\"white\",\"ticks\":\"\"},\"radialaxis\":{\"gridcolor\":\"white\",\"linecolor\":\"white\",\"ticks\":\"\"}},\"ternary\":{\"bgcolor\":\"#E5ECF6\",\"aaxis\":{\"gridcolor\":\"white\",\"linecolor\":\"white\",\"ticks\":\"\"},\"baxis\":{\"gridcolor\":\"white\",\"linecolor\":\"white\",\"ticks\":\"\"},\"caxis\":{\"gridcolor\":\"white\",\"linecolor\":\"white\",\"ticks\":\"\"}},\"coloraxis\":{\"colorbar\":{\"outlinewidth\":0,\"ticks\":\"\"}},\"colorscale\":{\"sequential\":[[0.0,\"#0d0887\"],[0.1111111111111111,\"#46039f\"],[0.2222222222222222,\"#7201a8\"],[0.3333333333333333,\"#9c179e\"],[0.4444444444444444,\"#bd3786\"],[0.5555555555555556,\"#d8576b\"],[0.6666666666666666,\"#ed7953\"],[0.7777777777777778,\"#fb9f3a\"],[0.8888888888888888,\"#fdca26\"],[1.0,\"#f0f921\"]],\"sequentialminus\":[[0.0,\"#0d0887\"],[0.1111111111111111,\"#46039f\"],[0.2222222222222222,\"#7201a8\"],[0.3333333333333333,\"#9c179e\"],[0.4444444444444444,\"#bd3786\"],[0.5555555555555556,\"#d8576b\"],[0.6666666666666666,\"#ed7953\"],[0.7777777777777778,\"#fb9f3a\"],[0.8888888888888888,\"#fdca26\"],[1.0,\"#f0f921\"]],\"diverging\":[[0,\"#8e0152\"],[0.1,\"#c51b7d\"],[0.2,\"#de77ae\"],[0.3,\"#f1b6da\"],[0.4,\"#fde0ef\"],[0.5,\"#f7f7f7\"],[0.6,\"#e6f5d0\"],[0.7,\"#b8e186\"],[0.8,\"#7fbc41\"],[0.9,\"#4d9221\"],[1,\"#276419\"]]},\"xaxis\":{\"gridcolor\":\"white\",\"linecolor\":\"white\",\"ticks\":\"\",\"title\":{\"standoff\":15},\"zerolinecolor\":\"white\",\"automargin\":true,\"zerolinewidth\":2},\"yaxis\":{\"gridcolor\":\"white\",\"linecolor\":\"white\",\"ticks\":\"\",\"title\":{\"standoff\":15},\"zerolinecolor\":\"white\",\"automargin\":true,\"zerolinewidth\":2},\"scene\":{\"xaxis\":{\"backgroundcolor\":\"#E5ECF6\",\"gridcolor\":\"white\",\"linecolor\":\"white\",\"showbackground\":true,\"ticks\":\"\",\"zerolinecolor\":\"white\",\"gridwidth\":2},\"yaxis\":{\"backgroundcolor\":\"#E5ECF6\",\"gridcolor\":\"white\",\"linecolor\":\"white\",\"showbackground\":true,\"ticks\":\"\",\"zerolinecolor\":\"white\",\"gridwidth\":2},\"zaxis\":{\"backgroundcolor\":\"#E5ECF6\",\"gridcolor\":\"white\",\"linecolor\":\"white\",\"showbackground\":true,\"ticks\":\"\",\"zerolinecolor\":\"white\",\"gridwidth\":2}},\"shapedefaults\":{\"line\":{\"color\":\"#2a3f5f\"}},\"annotationdefaults\":{\"arrowcolor\":\"#2a3f5f\",\"arrowhead\":0,\"arrowwidth\":1},\"geo\":{\"bgcolor\":\"white\",\"landcolor\":\"#E5ECF6\",\"subunitcolor\":\"white\",\"showland\":true,\"showlakes\":true,\"lakecolor\":\"white\"},\"title\":{\"x\":0.05},\"mapbox\":{\"style\":\"light\"}}},\"xaxis\":{\"anchor\":\"y\",\"domain\":[0.0,1.0],\"title\":{\"text\":\"Model Year\"}},\"yaxis\":{\"anchor\":\"x\",\"domain\":[0.0,1.0],\"title\":{\"text\":\"Count\"}},\"legend\":{\"title\":{\"text\":\"Electric Vehicle Type\"},\"tracegroupgap\":0},\"title\":{\"text\":\"Total Count of Electric Cars by Model Year\"},\"barmode\":\"group\"},                        {\"responsive\": true}                    ).then(function(){\n",
       "                            \n",
       "var gd = document.getElementById('691c8d70-b4dd-425e-bdf1-208eabde4801');\n",
       "var x = new MutationObserver(function (mutations, observer) {{\n",
       "        var display = window.getComputedStyle(gd).display;\n",
       "        if (!display || display === 'none') {{\n",
       "            console.log([gd, 'removed!']);\n",
       "            Plotly.purge(gd);\n",
       "            observer.disconnect();\n",
       "        }}\n",
       "}});\n",
       "\n",
       "// Listen for the removal of the full notebook cells\n",
       "var notebookContainer = gd.closest('#notebook-container');\n",
       "if (notebookContainer) {{\n",
       "    x.observe(notebookContainer, {childList: true});\n",
       "}}\n",
       "\n",
       "// Listen for the clearing of the current output cell\n",
       "var outputEl = gd.closest('.output');\n",
       "if (outputEl) {{\n",
       "    x.observe(outputEl, {childList: true});\n",
       "}}\n",
       "\n",
       "                        })                };                });            </script>        </div>"
      ]
     },
     "metadata": {},
     "output_type": "display_data"
    }
   ],
   "source": [
    "# Draw a bar plot using Plotly Express\n",
    "fig = px.bar(grouped_data, x='Model Year', y='count', color='Electric Vehicle Type',\n",
    "             labels={'count': 'Count', 'model year': 'Model Year'},\n",
    "             title='Total Count of Electric Cars by Model Year',\n",
    "             barmode='group')\n",
    "\n",
    "fig.show()"
   ]
  },
  {
   "cell_type": "code",
   "execution_count": null,
   "id": "4417dc73-0388-41c0-be59-6aa7c99da8d5",
   "metadata": {},
   "outputs": [],
   "source": []
  }
 ],
 "metadata": {
  "kernelspec": {
   "display_name": "Python 3 (ipykernel)",
   "language": "python",
   "name": "python3"
  },
  "language_info": {
   "codemirror_mode": {
    "name": "ipython",
    "version": 3
   },
   "file_extension": ".py",
   "mimetype": "text/x-python",
   "name": "python",
   "nbconvert_exporter": "python",
   "pygments_lexer": "ipython3",
   "version": "3.11.7"
  }
 },
 "nbformat": 4,
 "nbformat_minor": 5
}
